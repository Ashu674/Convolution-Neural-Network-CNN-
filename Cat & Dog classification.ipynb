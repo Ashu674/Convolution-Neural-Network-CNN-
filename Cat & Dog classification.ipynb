{
 "cells": [
  {
   "cell_type": "code",
   "execution_count": 1,
   "id": "30d6970a",
   "metadata": {},
   "outputs": [],
   "source": [
    "import pandas as pd\n",
    "import numpy as np"
   ]
  },
  {
   "cell_type": "code",
   "execution_count": 2,
   "id": "0247e20b",
   "metadata": {},
   "outputs": [],
   "source": [
    "# Importing essential libraries\n",
    "from keras.preprocessing.image import ImageDataGenerator"
   ]
  },
  {
   "cell_type": "code",
   "execution_count": 10,
   "id": "cf6a81d4",
   "metadata": {},
   "outputs": [],
   "source": [
    "DIRECTORY = r'C:\\Users\\Personal\\Downloads\\training_set'\n",
    "CATEGORIES = ['cat','dog']"
   ]
  },
  {
   "cell_type": "code",
   "execution_count": 11,
   "id": "fb810619",
   "metadata": {},
   "outputs": [
    {
     "name": "stdout",
     "output_type": "stream",
     "text": [
      "Found 8005 images belonging to 2 classes.\n"
     ]
    }
   ],
   "source": [
    "train_datagen=DIRECTORY\n",
    "# Preprocessing the Training set\n",
    "\n",
    "# Data Augmentation\n",
    "train_datagen = ImageDataGenerator(rescale=1./255,\n",
    "                                   shear_range=0.2,\n",
    "                                   zoom_range=0.2,\n",
    "                                   horizontal_flip=True)\n",
    "\n",
    "# Importing Training set\n",
    "training_set = train_datagen.flow_from_directory(r'C:\\Users\\Personal\\Downloads\\training_set',\n",
    "                                                    target_size=(64, 64),\n",
    "                                                    batch_size=32,\n",
    "                                                    class_mode='binary')"
   ]
  },
  {
   "cell_type": "code",
   "execution_count": 15,
   "id": "27a7022c",
   "metadata": {},
   "outputs": [],
   "source": [
    "DIRECTORY1 = r'C:\\Users\\Personal\\Downloads\\test_set'\n",
    "CATEGORIES1 = ['cat','dog']"
   ]
  },
  {
   "cell_type": "code",
   "execution_count": 16,
   "id": "1235f8cd",
   "metadata": {},
   "outputs": [
    {
     "name": "stdout",
     "output_type": "stream",
     "text": [
      "Found 2023 images belonging to 2 classes.\n"
     ]
    }
   ],
   "source": [
    "test_datagen=DIRECTORY1\n",
    "# Preprocessing the Test set\n",
    "\n",
    "# Feature Scaling\n",
    "test_datagen = ImageDataGenerator(rescale=1./255)\n",
    "\n",
    "# Importing Test set\n",
    "test_set = test_datagen.flow_from_directory(r'C:\\Users\\Personal\\Downloads\\test_set',\n",
    "                                            target_size=(64, 64),\n",
    "                                            batch_size=32,\n",
    "                                            class_mode='binary')"
   ]
  },
  {
   "cell_type": "markdown",
   "id": "4e29d425",
   "metadata": {},
   "source": [
    "## Building the CNN"
   ]
  },
  {
   "cell_type": "code",
   "execution_count": 17,
   "id": "c64c9db5",
   "metadata": {},
   "outputs": [],
   "source": [
    "# Importing essential libraries\n",
    "from keras.models import Sequential\n",
    "from keras.layers import Conv2D, MaxPool2D, Flatten, Dense"
   ]
  },
  {
   "cell_type": "code",
   "execution_count": 18,
   "id": "63c4700b",
   "metadata": {},
   "outputs": [],
   "source": [
    "# Initialising the CNN\n",
    "cnn = Sequential()"
   ]
  },
  {
   "cell_type": "code",
   "execution_count": 19,
   "id": "b1006a9c",
   "metadata": {},
   "outputs": [],
   "source": [
    "# Step 1 - Add Convolution Layer\n",
    "cnn.add(Conv2D(filters=32, kernel_size=3, activation='relu', input_shape=[64, 64, 3]))"
   ]
  },
  {
   "cell_type": "code",
   "execution_count": 20,
   "id": "40e32278",
   "metadata": {},
   "outputs": [],
   "source": [
    "# Step 2 - Add Pooling Layer\n",
    "cnn.add(MaxPool2D(pool_size=2, strides=2))"
   ]
  },
  {
   "cell_type": "code",
   "execution_count": 21,
   "id": "bdab88a8",
   "metadata": {},
   "outputs": [],
   "source": [
    "# Add second onvolutional layer with pooling\n",
    "cnn.add(Conv2D(filters=32, kernel_size=3, activation='relu'))\n",
    "cnn.add(MaxPool2D(pool_size=2, strides=2))"
   ]
  },
  {
   "cell_type": "code",
   "execution_count": 22,
   "id": "a205109e",
   "metadata": {},
   "outputs": [],
   "source": [
    "# Step 3 - Add Flattening Layer\n",
    "cnn.add(Flatten())"
   ]
  },
  {
   "cell_type": "code",
   "execution_count": 23,
   "id": "702e2c61",
   "metadata": {},
   "outputs": [],
   "source": [
    "# Step 4 - Add Full Connected Layer\n",
    "cnn.add(Dense(units=128, activation='relu'))"
   ]
  },
  {
   "cell_type": "code",
   "execution_count": 24,
   "id": "c226d75e",
   "metadata": {},
   "outputs": [],
   "source": [
    "# Step 5 - Add Output Layer\n",
    "cnn.add(Dense(units=1, activation='sigmoid'))"
   ]
  },
  {
   "cell_type": "code",
   "execution_count": 25,
   "id": "26b6187b",
   "metadata": {
    "scrolled": false
   },
   "outputs": [
    {
     "name": "stdout",
     "output_type": "stream",
     "text": [
      "Model: \"sequential\"\n",
      "_________________________________________________________________\n",
      " Layer (type)                Output Shape              Param #   \n",
      "=================================================================\n",
      " conv2d (Conv2D)             (None, 62, 62, 32)        896       \n",
      "                                                                 \n",
      " max_pooling2d (MaxPooling2D  (None, 31, 31, 32)       0         \n",
      " )                                                               \n",
      "                                                                 \n",
      " conv2d_1 (Conv2D)           (None, 29, 29, 32)        9248      \n",
      "                                                                 \n",
      " max_pooling2d_1 (MaxPooling  (None, 14, 14, 32)       0         \n",
      " 2D)                                                             \n",
      "                                                                 \n",
      " flatten (Flatten)           (None, 6272)              0         \n",
      "                                                                 \n",
      " dense (Dense)               (None, 128)               802944    \n",
      "                                                                 \n",
      " dense_1 (Dense)             (None, 1)                 129       \n",
      "                                                                 \n",
      "=================================================================\n",
      "Total params: 813,217\n",
      "Trainable params: 813,217\n",
      "Non-trainable params: 0\n",
      "_________________________________________________________________\n"
     ]
    }
   ],
   "source": [
    "cnn.summary()"
   ]
  },
  {
   "cell_type": "markdown",
   "id": "1ebcee7a",
   "metadata": {},
   "source": [
    "## Training the CNN"
   ]
  },
  {
   "cell_type": "code",
   "execution_count": 26,
   "id": "e28ec810",
   "metadata": {},
   "outputs": [],
   "source": [
    "# Compiling the CNN\n",
    "cnn.compile(optimizer='adam', loss='binary_crossentropy', metrics=['accuracy'])"
   ]
  },
  {
   "cell_type": "code",
   "execution_count": 27,
   "id": "2b5f87dd",
   "metadata": {},
   "outputs": [
    {
     "name": "stdout",
     "output_type": "stream",
     "text": [
      "Epoch 1/25\n",
      "251/251 [==============================] - 235s 918ms/step - loss: 0.6817 - accuracy: 0.5614 - val_loss: 0.6558 - val_accuracy: 0.6125\n",
      "Epoch 2/25\n",
      "251/251 [==============================] - 67s 268ms/step - loss: 0.6082 - accuracy: 0.6677 - val_loss: 0.6807 - val_accuracy: 0.6095\n",
      "Epoch 3/25\n",
      "251/251 [==============================] - 73s 291ms/step - loss: 0.5749 - accuracy: 0.6988 - val_loss: 0.5992 - val_accuracy: 0.6817\n",
      "Epoch 4/25\n",
      "251/251 [==============================] - 71s 281ms/step - loss: 0.5450 - accuracy: 0.7212 - val_loss: 0.5257 - val_accuracy: 0.7523\n",
      "Epoch 5/25\n",
      "251/251 [==============================] - 70s 278ms/step - loss: 0.5108 - accuracy: 0.7425 - val_loss: 0.5051 - val_accuracy: 0.7593\n",
      "Epoch 6/25\n",
      "251/251 [==============================] - 71s 282ms/step - loss: 0.4933 - accuracy: 0.7574 - val_loss: 0.4949 - val_accuracy: 0.7741\n",
      "Epoch 7/25\n",
      "251/251 [==============================] - 70s 277ms/step - loss: 0.4775 - accuracy: 0.7714 - val_loss: 0.4876 - val_accuracy: 0.7583\n",
      "Epoch 8/25\n",
      "251/251 [==============================] - 69s 272ms/step - loss: 0.4685 - accuracy: 0.7750 - val_loss: 0.4827 - val_accuracy: 0.7632\n",
      "Epoch 9/25\n",
      "251/251 [==============================] - 69s 274ms/step - loss: 0.4469 - accuracy: 0.7846 - val_loss: 0.4730 - val_accuracy: 0.7870\n",
      "Epoch 10/25\n",
      "251/251 [==============================] - 64s 254ms/step - loss: 0.4319 - accuracy: 0.8000 - val_loss: 0.4919 - val_accuracy: 0.7657\n",
      "Epoch 11/25\n",
      "251/251 [==============================] - 67s 268ms/step - loss: 0.4222 - accuracy: 0.8065 - val_loss: 0.4790 - val_accuracy: 0.7914\n",
      "Epoch 12/25\n",
      "251/251 [==============================] - 67s 267ms/step - loss: 0.3983 - accuracy: 0.8174 - val_loss: 0.4841 - val_accuracy: 0.7657\n",
      "Epoch 13/25\n",
      "251/251 [==============================] - 66s 264ms/step - loss: 0.3833 - accuracy: 0.8284 - val_loss: 0.4739 - val_accuracy: 0.7845\n",
      "Epoch 14/25\n",
      "251/251 [==============================] - 63s 250ms/step - loss: 0.3682 - accuracy: 0.8341 - val_loss: 0.4724 - val_accuracy: 0.7934\n",
      "Epoch 15/25\n",
      "251/251 [==============================] - 62s 246ms/step - loss: 0.3687 - accuracy: 0.8330 - val_loss: 0.4822 - val_accuracy: 0.7850\n",
      "Epoch 16/25\n",
      "251/251 [==============================] - 66s 263ms/step - loss: 0.3400 - accuracy: 0.8528 - val_loss: 0.4879 - val_accuracy: 0.7944\n",
      "Epoch 17/25\n",
      "251/251 [==============================] - 67s 268ms/step - loss: 0.3291 - accuracy: 0.8560 - val_loss: 0.5052 - val_accuracy: 0.7860\n",
      "Epoch 18/25\n",
      "251/251 [==============================] - 65s 259ms/step - loss: 0.3299 - accuracy: 0.8517 - val_loss: 0.4792 - val_accuracy: 0.8057\n",
      "Epoch 19/25\n",
      "251/251 [==============================] - 66s 262ms/step - loss: 0.3043 - accuracy: 0.8682 - val_loss: 0.5098 - val_accuracy: 0.7830\n",
      "Epoch 20/25\n",
      "251/251 [==============================] - 71s 280ms/step - loss: 0.2831 - accuracy: 0.8752 - val_loss: 0.5155 - val_accuracy: 0.7978\n",
      "Epoch 21/25\n",
      "251/251 [==============================] - 66s 261ms/step - loss: 0.2751 - accuracy: 0.8859 - val_loss: 0.5228 - val_accuracy: 0.7934\n",
      "Epoch 22/25\n",
      "251/251 [==============================] - 70s 279ms/step - loss: 0.2613 - accuracy: 0.8893 - val_loss: 0.5842 - val_accuracy: 0.7736\n",
      "Epoch 23/25\n",
      "251/251 [==============================] - 72s 285ms/step - loss: 0.2564 - accuracy: 0.8897 - val_loss: 0.5347 - val_accuracy: 0.7978\n",
      "Epoch 24/25\n",
      "251/251 [==============================] - 70s 277ms/step - loss: 0.2385 - accuracy: 0.9006 - val_loss: 0.5406 - val_accuracy: 0.7963\n",
      "Epoch 25/25\n",
      "251/251 [==============================] - 66s 263ms/step - loss: 0.2236 - accuracy: 0.9079 - val_loss: 0.5998 - val_accuracy: 0.7899\n"
     ]
    }
   ],
   "source": [
    "# Training the CNN on the Training set and evaluating it on the Test set\n",
    "model_history = cnn.fit(x=training_set, validation_data=test_set, epochs=25)"
   ]
  },
  {
   "cell_type": "markdown",
   "id": "a24b4bb2",
   "metadata": {},
   "source": [
    "## Model Evaluation"
   ]
  },
  {
   "cell_type": "code",
   "execution_count": 28,
   "id": "2ce8470f",
   "metadata": {},
   "outputs": [],
   "source": [
    "# Importing essential libraries\n",
    "import matplotlib.pyplot as plt\n",
    "import seaborn as sns\n",
    "%matplotlib inline"
   ]
  },
  {
   "cell_type": "code",
   "execution_count": 29,
   "id": "acd6d19c",
   "metadata": {},
   "outputs": [
    {
     "name": "stdout",
     "output_type": "stream",
     "text": [
      "dict_keys(['loss', 'accuracy', 'val_loss', 'val_accuracy'])\n"
     ]
    }
   ],
   "source": [
    "# List all data in history\n",
    "print(model_history.history.keys())"
   ]
  },
  {
   "cell_type": "code",
   "execution_count": 30,
   "id": "5da01866",
   "metadata": {},
   "outputs": [
    {
     "data": {
      "image/png": "[encoded data removed]",
      "text/plain": [
       "<Figure size 576x576 with 1 Axes>"
      ]
     },
     "metadata": {
      "needs_background": "light"
     },
     "output_type": "display_data"
    }
   ],
   "source": [
    "# Summarize history for accuracy\n",
    "plt.figure(figsize=(8,8))\n",
    "plt.plot(model_history.history['accuracy'])\n",
    "plt.plot(model_history.history['val_accuracy'])\n",
    "plt.title('Model Accuracy')\n",
    "plt.xlabel('Epoch')\n",
    "plt.ylabel('Accuracy')\n",
    "plt.legend(['Train', 'Test'], loc='lower right')\n",
    "plt.show()"
   ]
  },
  {
   "cell_type": "code",
   "execution_count": 31,
   "id": "6302e778",
   "metadata": {},
   "outputs": [
    {
     "data": {
      "image/png": "[encoded data removed]",
      "text/plain": [
       "<Figure size 576x576 with 1 Axes>"
      ]
     },
     "metadata": {
      "needs_background": "light"
     },
     "output_type": "display_data"
    }
   ],
   "source": [
    "# Summarize history for loss\n",
    "plt.figure(figsize=(8,8))\n",
    "plt.plot(model_history.history['loss'])\n",
    "plt.plot(model_history.history['val_loss'])\n",
    "plt.title('Model Loss')\n",
    "plt.xlabel('Epoch')\n",
    "plt.ylabel('Loss')\n",
    "plt.legend(['Train', 'Test'], loc='upper right')\n",
    "plt.show()"
   ]
  },
  {
   "cell_type": "markdown",
   "id": "25a8c90a",
   "metadata": {},
   "source": [
    "## Making Prediction"
   ]
  },
  {
   "cell_type": "code",
   "execution_count": 32,
   "id": "26c874a2",
   "metadata": {},
   "outputs": [],
   "source": [
    "# Importing essential libraries\n",
    "import numpy as np\n",
    "from keras.preprocessing import image"
   ]
  },
  {
   "cell_type": "markdown",
   "id": "99134d96",
   "metadata": {},
   "source": [
    "## Prediction 1"
   ]
  },
  {
   "cell_type": "code",
   "execution_count": 36,
   "id": "300697ae",
   "metadata": {},
   "outputs": [
    {
     "name": "stdout",
     "output_type": "stream",
     "text": [
      "Prediction: It's a Dog's image.\n"
     ]
    }
   ],
   "source": [
    "test_image = image.load_img(r'C:\\Users\\Personal\\Downloads\\test_set\\dogs\\dog.4003.jpg', target_size = (64, 64))\n",
    "test_image = image.img_to_array(test_image)\n",
    "test_image = np.expand_dims(test_image, axis = 0)\n",
    "result = cnn.predict(test_image)\n",
    "\n",
    "if result[0][0] == 1:\n",
    "  print(\"Prediction: It's a Dog's image.\")\n",
    "else:\n",
    "  print(\"Prediction: It's a Cat's image.\")"
   ]
  }
 ],
 "metadata": {
  "kernelspec": {
   "display_name": "Python 3",
   "language": "python",
   "name": "python3"
  },
  "language_info": {
   "codemirror_mode": {
    "name": "ipython",
    "version": 3
   },
   "file_extension": ".py",
   "mimetype": "text/x-python",
   "name": "python",
   "nbconvert_exporter": "python",
   "pygments_lexer": "ipython3",
   "version": "3.8.8"
  }
 },
 "nbformat": 4,
 "nbformat_minor": 5
}
